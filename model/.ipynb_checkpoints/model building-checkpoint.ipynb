{
 "cells": [
  {
   "cell_type": "code",
   "execution_count": null,
   "id": "74232baa-abae-4654-b690-c49feb931cf0",
   "metadata": {},
   "outputs": [],
   "source": [
    "!pip install numpy\n",
    "!pip install pandas"
   ]
  },
  {
   "cell_type": "code",
   "execution_count": null,
   "id": "80a1aa2e-f0ff-4818-b915-7cf83bcb170d",
   "metadata": {},
   "outputs": [],
   "source": [
    "import numpy as np\n",
    "import pandas as pd"
   ]
  },
  {
   "cell_type": "code",
   "execution_count": null,
   "id": "a5efac77-a9d5-4428-97d2-d6db0147f396",
   "metadata": {},
   "outputs": [],
   "source": [
    "url = \"https://raw.githubusercontent.com/IT22897008-KavinduTheekshana/Laptop-Price-Predictor/master/model/laptop_price.csv\"\n",
    "data = pd.read_csv(url, encoding='latin-1')"
   ]
  },
  {
   "cell_type": "markdown",
   "id": "1163541b-2990-46dd-81b4-e59f7ea79d67",
   "metadata": {},
   "source": [
    "# Data Analysis"
   ]
  },
  {
   "cell_type": "code",
   "execution_count": null,
   "id": "8b83a167-ae09-433b-a6fa-baddca02c152",
   "metadata": {},
   "outputs": [],
   "source": [
    "data.head()"
   ]
  },
  {
   "cell_type": "code",
   "execution_count": null,
   "id": "e1e52ce7-d95c-4aff-aac9-b77483798b6c",
   "metadata": {},
   "outputs": [],
   "source": [
    "data.isnull().sum()"
   ]
  },
  {
   "cell_type": "code",
   "execution_count": null,
   "id": "4abc2bb4-e08e-4ca1-8e73-1eb1458e8da5",
   "metadata": {},
   "outputs": [],
   "source": [
    "data.info()"
   ]
  },
  {
   "cell_type": "code",
   "execution_count": null,
   "id": "8c01a5a1-2657-40c4-9954-8d0ea6d271b9",
   "metadata": {},
   "outputs": [],
   "source": [
    "data['Ram'] = data['Ram'].str.replace('GB','').astype('int32')\n",
    "data['Weight'] = data['Weight'].str.replace('kg','').astype('float32')"
   ]
  },
  {
   "cell_type": "code",
   "execution_count": null,
   "id": "e0a798ab-4212-410d-b886-a814a0553da6",
   "metadata": {},
   "outputs": [],
   "source": [
    "data.head(2)"
   ]
  },
  {
   "cell_type": "code",
   "execution_count": null,
   "id": "9cc0ca05-a481-4413-a748-f5f7f998e4c5",
   "metadata": {},
   "outputs": [],
   "source": [
    "data.info()"
   ]
  },
  {
   "cell_type": "code",
   "execution_count": null,
   "id": "ce5d9ff7-77e4-4a30-a6f5-113a539ebee9",
   "metadata": {},
   "outputs": [],
   "source": [
    "correlation = data.select_dtypes(include=['float64', 'float32', 'int64', 'int32']).corr()['Price_euros']\n",
    "print(correlation)"
   ]
  },
  {
   "cell_type": "markdown",
   "id": "1c1f916f-363e-496a-8eb1-a415ec247344",
   "metadata": {},
   "source": [
    "## Company Column"
   ]
  },
  {
   "cell_type": "code",
   "execution_count": null,
   "id": "6d0ba160-925a-4265-91bb-44a475cfb7ae",
   "metadata": {},
   "outputs": [],
   "source": [
    "data['Company'].value_counts()"
   ]
  },
  {
   "cell_type": "code",
   "execution_count": null,
   "id": "d0a9bd61-df32-4059-afc6-63322f38848b",
   "metadata": {},
   "outputs": [],
   "source": [
    "def add_company(inpt):\n",
    "    if inpt == 'Samsung' or inpt == 'Razer' or inpt == 'Mediacom' or inpt == 'Microsoft'or inpt == 'Xiaomi'or inpt == 'Vero'or inpt == 'Chuwi'or inpt == 'Google'or inpt == 'Fujitsu'or inpt == 'LG'or inpt == 'Huawei':\n",
    "        return 'Other'\n",
    "    else:\n",
    "        return inpt"
   ]
  },
  {
   "cell_type": "code",
   "execution_count": null,
   "id": "22f9a228-eae9-4e8d-a497-0bc864032ecb",
   "metadata": {},
   "outputs": [],
   "source": [
    "data['Company'] = data['Company'].apply(add_company)"
   ]
  },
  {
   "cell_type": "code",
   "execution_count": null,
   "id": "6085dc12-1501-4c85-a34a-d79b871fd329",
   "metadata": {},
   "outputs": [],
   "source": [
    "data['Company'].value_counts()"
   ]
  },
  {
   "cell_type": "markdown",
   "id": "4044a82e-88ca-40dd-9e79-91edaa077390",
   "metadata": {},
   "source": [
    "## Product Column"
   ]
  },
  {
   "cell_type": "code",
   "execution_count": null,
   "id": "204e8293-677f-4d44-a080-35885a5c6ed3",
   "metadata": {},
   "outputs": [],
   "source": [
    "len(data['Product'].value_counts())"
   ]
  },
  {
   "cell_type": "markdown",
   "id": "ef6db887-9cff-45fe-8982-e35a18743adf",
   "metadata": {},
   "source": [
    "## TypeName Column"
   ]
  },
  {
   "cell_type": "code",
   "execution_count": null,
   "id": "89c582ee-40b3-4250-be9c-1a91a05bf4b0",
   "metadata": {},
   "outputs": [],
   "source": [
    "data['TypeName'].value_counts()"
   ]
  },
  {
   "cell_type": "markdown",
   "id": "1dfc056f-b1a1-420e-bb0c-274759a1133d",
   "metadata": {},
   "source": [
    "## ScreenResolution Column"
   ]
  },
  {
   "cell_type": "code",
   "execution_count": null,
   "id": "c66d470b-aa9e-42bc-a746-fa714ac83e1f",
   "metadata": {},
   "outputs": [],
   "source": [
    "data['ScreenResolution'].value_counts()"
   ]
  },
  {
   "cell_type": "code",
   "execution_count": null,
   "id": "b6f27dd0-18b0-4653-b407-d4ccd02377c0",
   "metadata": {},
   "outputs": [],
   "source": [
    "data['Touchscreen'] = data['ScreenResolution'].apply(lambda x:1 if 'Touchscreen' in x else 0)\n",
    "data['Ips'] = data['ScreenResolution'].apply(lambda x:1 if 'IPS' in x else 0)"
   ]
  },
  {
   "cell_type": "code",
   "execution_count": null,
   "id": "7e9a364f-462e-4ac6-bdae-3a64bbf601c8",
   "metadata": {},
   "outputs": [],
   "source": [
    "data.head(2)"
   ]
  },
  {
   "cell_type": "markdown",
   "id": "f1ffc2df-652f-440d-8a42-629133e906b5",
   "metadata": {},
   "source": [
    "## Cpu Column"
   ]
  },
  {
   "cell_type": "code",
   "execution_count": null,
   "id": "731a9573-7fbc-40f5-9952-67956df82d35",
   "metadata": {},
   "outputs": [],
   "source": [
    "data['Cpu'].value_counts()"
   ]
  },
  {
   "cell_type": "code",
   "execution_count": null,
   "id": "d6d7dee2-62d8-4b4a-a8d3-52cdbd028ab3",
   "metadata": {},
   "outputs": [],
   "source": [
    "data['cpu_name'] = data['Cpu'].apply(lambda x:\" \".join(x.split()[0:3]))"
   ]
  },
  {
   "cell_type": "code",
   "execution_count": null,
   "id": "eae0576b-37b7-4bdc-b84d-068a03c32c5a",
   "metadata": {},
   "outputs": [],
   "source": [
    "data['cpu_name'].value_counts()"
   ]
  },
  {
   "cell_type": "code",
   "execution_count": null,
   "id": "1f5cc732-7be7-45d6-95cc-49225af8dd3d",
   "metadata": {},
   "outputs": [],
   "source": [
    "def set_processor(name):\n",
    "    if name == 'Intel Core i7' or name == 'Intel Core i5' or name == 'Intel Core i3':\n",
    "        return name\n",
    "    else:\n",
    "        if name.split()[0] == 'AMD':\n",
    "            return 'AMD'\n",
    "        else:\n",
    "            return 'Other'"
   ]
  },
  {
   "cell_type": "code",
   "execution_count": null,
   "id": "8134ebeb-1c0b-4490-bdf4-753e9d4dffec",
   "metadata": {},
   "outputs": [],
   "source": [
    "data['cpu_name'] = data['cpu_name'].apply(set_processor)"
   ]
  },
  {
   "cell_type": "code",
   "execution_count": null,
   "id": "a8d034d9-157a-40d5-a0ee-cacfee2808ee",
   "metadata": {},
   "outputs": [],
   "source": [
    "data['cpu_name'].value_counts()"
   ]
  },
  {
   "cell_type": "markdown",
   "id": "9280871b-4fab-4b66-a476-e26e5456ce21",
   "metadata": {},
   "source": [
    "## Ram Column"
   ]
  },
  {
   "cell_type": "code",
   "execution_count": null,
   "id": "256aa491-e54f-46a8-8d37-ac8559d98d05",
   "metadata": {},
   "outputs": [],
   "source": [
    "data['Ram'].value_counts()"
   ]
  },
  {
   "cell_type": "markdown",
   "id": "79f5e1cd-a16f-417e-9bde-9347f516f3dd",
   "metadata": {},
   "source": [
    "## Gpu Column"
   ]
  },
  {
   "cell_type": "code",
   "execution_count": null,
   "id": "00f676c1-7d8c-46e9-b2ac-ee16da55edc0",
   "metadata": {},
   "outputs": [],
   "source": [
    "data['Gpu'].value_counts()"
   ]
  },
  {
   "cell_type": "code",
   "execution_count": null,
   "id": "4544872b-a2b3-46cc-b518-accc3b86794f",
   "metadata": {},
   "outputs": [],
   "source": [
    "data['gpu_name'] = data['Gpu'].apply(lambda x:\" \".join(x.split()[0:1]))"
   ]
  },
  {
   "cell_type": "code",
   "execution_count": null,
   "id": "5d9d7315-f8ce-4292-b9d0-fd84453b61ec",
   "metadata": {},
   "outputs": [],
   "source": [
    "\n",
    "data['gpu_name'].value_counts()"
   ]
  },
  {
   "cell_type": "code",
   "execution_count": null,
   "id": "84a17e03-68cd-4eaf-af5b-45c202a9f4fd",
   "metadata": {},
   "outputs": [],
   "source": [
    "data.shape"
   ]
  },
  {
   "cell_type": "code",
   "execution_count": null,
   "id": "d9597a33-896e-4708-aa0f-6dccab945f21",
   "metadata": {},
   "outputs": [],
   "source": [
    "data = data[data['gpu_name'] != 'ARM']"
   ]
  },
  {
   "cell_type": "code",
   "execution_count": null,
   "id": "3eed583b-6624-4eac-b9c2-6ac3a916d0b3",
   "metadata": {},
   "outputs": [],
   "source": [
    "data.shape"
   ]
  },
  {
   "cell_type": "code",
   "execution_count": null,
   "id": "53a7cb57-cf7a-4e7d-954d-93b2c5e03cbf",
   "metadata": {},
   "outputs": [],
   "source": [
    "data.head(2)"
   ]
  },
  {
   "cell_type": "markdown",
   "id": "08655ca6-787f-49e8-a0a4-7c9746c7b3b5",
   "metadata": {},
   "source": [
    "## OpSys Column"
   ]
  },
  {
   "cell_type": "code",
   "execution_count": null,
   "id": "0da249e2-8b3a-4598-93c2-b2a66aa6da89",
   "metadata": {},
   "outputs": [],
   "source": [
    "data['OpSys'].value_counts()"
   ]
  },
  {
   "cell_type": "code",
   "execution_count": null,
   "id": "b137b95a-1672-4d7d-9ac4-96526e04f99c",
   "metadata": {},
   "outputs": [],
   "source": [
    "def set_os(inpt):\n",
    "    if inpt == 'Windows 10' or inpt == 'Windows 7' or inpt == 'Windows 10 S':\n",
    "        return 'Windows'\n",
    "    elif inpt == 'macOS' or inpt == 'Mac OS X':\n",
    "        return 'Mac'\n",
    "    elif inpt == 'Linux':\n",
    "        return inpt\n",
    "    else:\n",
    "        return 'Other'\n"
   ]
  },
  {
   "cell_type": "code",
   "execution_count": null,
   "id": "d38c3bf1-66fc-4b78-84ee-40e3dce24fdf",
   "metadata": {},
   "outputs": [],
   "source": [
    "data.loc[:, 'OpSys'] = data['OpSys'].apply(set_os)"
   ]
  },
  {
   "cell_type": "code",
   "execution_count": null,
   "id": "58487f77-f8a7-4d88-9eda-24926fb7ac18",
   "metadata": {},
   "outputs": [],
   "source": []
  },
  {
   "cell_type": "markdown",
   "id": "3332da7b-a436-4224-be03-7e03c111c34f",
   "metadata": {},
   "source": [
    "## Drop unnecessary columns"
   ]
  },
  {
   "cell_type": "code",
   "execution_count": null,
   "id": "09ed64f9-6432-403c-9807-bbd5a49e9e90",
   "metadata": {},
   "outputs": [],
   "source": [
    "data = data.drop(columns=['laptop_ID', 'Inches', 'Product', 'ScreenResolution', 'Cpu', 'Gpu'])"
   ]
  },
  {
   "cell_type": "code",
   "execution_count": null,
   "id": "da01e467-057d-45ea-abfc-ad660f4e3577",
   "metadata": {},
   "outputs": [],
   "source": [
    "data.head()"
   ]
  },
  {
   "cell_type": "markdown",
   "id": "81a30c4d-68a2-488b-853f-0bcb832cbcfb",
   "metadata": {},
   "source": [
    "## One-Hot Encoding"
   ]
  },
  {
   "cell_type": "code",
   "execution_count": null,
   "id": "d0061c5b-7fdb-48b9-8a26-8d51faf4e7b6",
   "metadata": {},
   "outputs": [],
   "source": [
    "data = pd.get_dummies(data)\n",
    "data = data.astype(int)"
   ]
  },
  {
   "cell_type": "code",
   "execution_count": null,
   "id": "537ea60f-f127-42db-95ac-99332735be69",
   "metadata": {},
   "outputs": [],
   "source": [
    "data.head(2)"
   ]
  },
  {
   "cell_type": "code",
   "execution_count": null,
   "id": "5435a3de-7559-47d9-b3c9-4020ee63d7d4",
   "metadata": {},
   "outputs": [],
   "source": [
    "data.shape"
   ]
  },
  {
   "cell_type": "markdown",
   "id": "2634f77f-7995-41bd-b8ed-9e9f89a12333",
   "metadata": {},
   "source": [
    "# Model Building and Selection"
   ]
  },
  {
   "cell_type": "code",
   "execution_count": null,
   "id": "810fbddf-4b77-42f4-9c55-2fb276a4e7d8",
   "metadata": {},
   "outputs": [],
   "source": [
    "X = data.drop('Price_euros', axis=1)\n",
    "y = data['Price_euros']"
   ]
  },
  {
   "cell_type": "code",
   "execution_count": null,
   "id": "dc3a34c7-0784-493a-adf8-6af90fc53d3f",
   "metadata": {},
   "outputs": [],
   "source": [
    "pip uninstall scikit-learn\n",
    "pip install scikit-learn"
   ]
  },
  {
   "cell_type": "markdown",
   "id": "96cfcf6e-d0f2-49dd-ae8b-e1beaeb6b6ae",
   "metadata": {},
   "source": [
    "## Divide dataset into training and testing set"
   ]
  },
  {
   "cell_type": "code",
   "execution_count": null,
   "id": "7d3db0c7-4f2b-48fd-ba85-7cd4039e66ac",
   "metadata": {},
   "outputs": [],
   "source": [
    "from sklearn.model_selection import train_test_split\n",
    "X_train, X_test, y_train, y_test = train_test_split(X, y, test_size = 0.25)"
   ]
  },
  {
   "cell_type": "code",
   "execution_count": null,
   "id": "bd77679b-574f-4fb6-a1ed-7cf82ca92b01",
   "metadata": {},
   "outputs": [],
   "source": [
    "X_train.shape, X_test.shape"
   ]
  },
  {
   "cell_type": "markdown",
   "id": "c145a8c5-52ec-4a0c-8438-48e8afaac3a8",
   "metadata": {},
   "source": [
    "## model training"
   ]
  },
  {
   "cell_type": "code",
   "execution_count": null,
   "id": "096c0a8e-db26-44ef-b38d-6c7e91e03e4c",
   "metadata": {},
   "outputs": [],
   "source": [
    "def model_acc(model):\n",
    "    model.fit(X_train, y_train)\n",
    "    acc = model.score(X_test, y_test)\n",
    "    print(str(model)+ ' --> ' +str(acc))"
   ]
  },
  {
   "cell_type": "code",
   "execution_count": null,
   "id": "9c396dd0-5759-4243-a9a1-e685ddc57120",
   "metadata": {},
   "outputs": [],
   "source": [
    "from sklearn.linear_model import LinearRegression\n",
    "lr = LinearRegression()\n",
    "model_acc(lr)\n",
    "\n",
    "from sklearn.linear_model import Lasso\n",
    "lasso = Lasso()\n",
    "model_acc(lasso)\n",
    "\n",
    "from sklearn.tree import DecisionTreeRegressor\n",
    "dt = DecisionTreeRegressor()\n",
    "model_acc(dt)\n",
    "\n",
    "from sklearn.ensemble import RandomForestRegressor\n",
    "rf = RandomForestRegressor()\n",
    "model_acc(rf)"
   ]
  },
  {
   "cell_type": "markdown",
   "id": "5909a874-01f2-4ad6-9583-a740bfbb4c79",
   "metadata": {},
   "source": [
    "## Hyperparameter tunning"
   ]
  },
  {
   "cell_type": "code",
   "execution_count": null,
   "id": "dbac7180-1cf7-4593-8b6d-24fdd3990607",
   "metadata": {},
   "outputs": [],
   "source": [
    "from sklearn.model_selection import GridSearchCV\n",
    "\n",
    "parameters = {'n_estimators':[10, 50, 100],\n",
    "              'criterion':['squared_error','absolute_error','poisson']}\n",
    "\n",
    "grid_obj = GridSearchCV(estimator=rf, param_grid=parameters)\n",
    "\n",
    "grid_fit = grid_obj.fit(X_train, y_train)\n",
    "\n",
    "best_model = grid_fit.best_estimator_\n",
    "\n",
    "best_model.score(X_test, y_test)"
   ]
  },
  {
   "cell_type": "code",
   "execution_count": null,
   "id": "5d8945f6-6154-40e7-9b4a-25c8a0009de9",
   "metadata": {},
   "outputs": [],
   "source": [
    "X_test.columns"
   ]
  },
  {
   "cell_type": "markdown",
   "id": "cb0340b7-f466-4ba7-ada4-9b30de696f5b",
   "metadata": {},
   "source": [
    "## Save model"
   ]
  },
  {
   "cell_type": "code",
   "execution_count": null,
   "id": "d71f1cd7-cc09-484f-8973-fd6e816d07bf",
   "metadata": {},
   "outputs": [],
   "source": [
    "import pickle\n",
    "with open('predictor.pickle', 'wb') as file:\n",
    "    pickle.dump(best_model, file)"
   ]
  },
  {
   "cell_type": "code",
   "execution_count": null,
   "id": "69c3aaf2-49e1-412d-8d5e-eaf536d6d88d",
   "metadata": {},
   "outputs": [],
   "source": [
    "pred_value = best_model.predict([[8, 1.3, 1, 1, 0, 1, 0, 1, 0, 0, 0, 0, 0, 0, 0, 1, 0, 0, 1, 0, 0, 1, 0, 0, 0, 0, 1, 0, 1, 0, 0]])\n",
    "pred_value"
   ]
  },
  {
   "cell_type": "code",
   "execution_count": null,
   "id": "44c0cb8b-dec1-480a-992d-0590e026c9be",
   "metadata": {},
   "outputs": [],
   "source": []
  },
  {
   "cell_type": "code",
   "execution_count": null,
   "id": "9c6ce4ab-29f8-491f-84f1-04313bd2fe75",
   "metadata": {},
   "outputs": [],
   "source": []
  }
 ],
 "metadata": {
  "kernelspec": {
   "display_name": "Python 3 (ipykernel)",
   "language": "python",
   "name": "python3"
  },
  "language_info": {
   "codemirror_mode": {
    "name": "ipython",
    "version": 3
   },
   "file_extension": ".py",
   "mimetype": "text/x-python",
   "name": "python",
   "nbconvert_exporter": "python",
   "pygments_lexer": "ipython3",
   "version": "3.12.7"
  }
 },
 "nbformat": 4,
 "nbformat_minor": 5
}
